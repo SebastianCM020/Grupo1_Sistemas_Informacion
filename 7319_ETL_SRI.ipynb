{
  "nbformat": 4,
  "nbformat_minor": 0,
  "metadata": {
    "colab": {
      "provenance": [],
      "authorship_tag": "ABX9TyNSqPojwiTwQkd9eojuONzD",
      "include_colab_link": true
    },
    "kernelspec": {
      "name": "python3",
      "display_name": "Python 3"
    },
    "language_info": {
      "name": "python"
    }
  },
  "cells": [
    {
      "cell_type": "markdown",
      "metadata": {
        "id": "view-in-github",
        "colab_type": "text"
      },
      "source": [
        "<a href=\"https://colab.research.google.com/github/SebastianCM020/Grupo1_Sistemas_Informacion/blob/main/7319_ETL_SRI.ipynb\" target=\"_parent\"><img src=\"https://colab.research.google.com/assets/colab-badge.svg\" alt=\"Open In Colab\"/></a>"
      ]
    },
    {
      "cell_type": "code",
      "execution_count": null,
      "metadata": {
        "colab": {
          "base_uri": "https://localhost:8080/",
          "height": 73
        },
        "id": "CkmKvq0B336n",
        "outputId": "8c763075-28a0-436d-b2bb-ad769f925ad7"
      },
      "outputs": [
        {
          "output_type": "display_data",
          "data": {
            "text/plain": [
              "<IPython.core.display.HTML object>"
            ],
            "text/html": [
              "\n",
              "     <input type=\"file\" id=\"files-e7b6bdda-5d8b-4f09-91cf-06f9d0a75e78\" name=\"files[]\" multiple disabled\n",
              "        style=\"border:none\" />\n",
              "     <output id=\"result-e7b6bdda-5d8b-4f09-91cf-06f9d0a75e78\">\n",
              "      Upload widget is only available when the cell has been executed in the\n",
              "      current browser session. Please rerun this cell to enable.\n",
              "      </output>\n",
              "      <script>// Copyright 2017 Google LLC\n",
              "//\n",
              "// Licensed under the Apache License, Version 2.0 (the \"License\");\n",
              "// you may not use this file except in compliance with the License.\n",
              "// You may obtain a copy of the License at\n",
              "//\n",
              "//      http://www.apache.org/licenses/LICENSE-2.0\n",
              "//\n",
              "// Unless required by applicable law or agreed to in writing, software\n",
              "// distributed under the License is distributed on an \"AS IS\" BASIS,\n",
              "// WITHOUT WARRANTIES OR CONDITIONS OF ANY KIND, either express or implied.\n",
              "// See the License for the specific language governing permissions and\n",
              "// limitations under the License.\n",
              "\n",
              "/**\n",
              " * @fileoverview Helpers for google.colab Python module.\n",
              " */\n",
              "(function(scope) {\n",
              "function span(text, styleAttributes = {}) {\n",
              "  const element = document.createElement('span');\n",
              "  element.textContent = text;\n",
              "  for (const key of Object.keys(styleAttributes)) {\n",
              "    element.style[key] = styleAttributes[key];\n",
              "  }\n",
              "  return element;\n",
              "}\n",
              "\n",
              "// Max number of bytes which will be uploaded at a time.\n",
              "const MAX_PAYLOAD_SIZE = 100 * 1024;\n",
              "\n",
              "function _uploadFiles(inputId, outputId) {\n",
              "  const steps = uploadFilesStep(inputId, outputId);\n",
              "  const outputElement = document.getElementById(outputId);\n",
              "  // Cache steps on the outputElement to make it available for the next call\n",
              "  // to uploadFilesContinue from Python.\n",
              "  outputElement.steps = steps;\n",
              "\n",
              "  return _uploadFilesContinue(outputId);\n",
              "}\n",
              "\n",
              "// This is roughly an async generator (not supported in the browser yet),\n",
              "// where there are multiple asynchronous steps and the Python side is going\n",
              "// to poll for completion of each step.\n",
              "// This uses a Promise to block the python side on completion of each step,\n",
              "// then passes the result of the previous step as the input to the next step.\n",
              "function _uploadFilesContinue(outputId) {\n",
              "  const outputElement = document.getElementById(outputId);\n",
              "  const steps = outputElement.steps;\n",
              "\n",
              "  const next = steps.next(outputElement.lastPromiseValue);\n",
              "  return Promise.resolve(next.value.promise).then((value) => {\n",
              "    // Cache the last promise value to make it available to the next\n",
              "    // step of the generator.\n",
              "    outputElement.lastPromiseValue = value;\n",
              "    return next.value.response;\n",
              "  });\n",
              "}\n",
              "\n",
              "/**\n",
              " * Generator function which is called between each async step of the upload\n",
              " * process.\n",
              " * @param {string} inputId Element ID of the input file picker element.\n",
              " * @param {string} outputId Element ID of the output display.\n",
              " * @return {!Iterable<!Object>} Iterable of next steps.\n",
              " */\n",
              "function* uploadFilesStep(inputId, outputId) {\n",
              "  const inputElement = document.getElementById(inputId);\n",
              "  inputElement.disabled = false;\n",
              "\n",
              "  const outputElement = document.getElementById(outputId);\n",
              "  outputElement.innerHTML = '';\n",
              "\n",
              "  const pickedPromise = new Promise((resolve) => {\n",
              "    inputElement.addEventListener('change', (e) => {\n",
              "      resolve(e.target.files);\n",
              "    });\n",
              "  });\n",
              "\n",
              "  const cancel = document.createElement('button');\n",
              "  inputElement.parentElement.appendChild(cancel);\n",
              "  cancel.textContent = 'Cancel upload';\n",
              "  const cancelPromise = new Promise((resolve) => {\n",
              "    cancel.onclick = () => {\n",
              "      resolve(null);\n",
              "    };\n",
              "  });\n",
              "\n",
              "  // Wait for the user to pick the files.\n",
              "  const files = yield {\n",
              "    promise: Promise.race([pickedPromise, cancelPromise]),\n",
              "    response: {\n",
              "      action: 'starting',\n",
              "    }\n",
              "  };\n",
              "\n",
              "  cancel.remove();\n",
              "\n",
              "  // Disable the input element since further picks are not allowed.\n",
              "  inputElement.disabled = true;\n",
              "\n",
              "  if (!files) {\n",
              "    return {\n",
              "      response: {\n",
              "        action: 'complete',\n",
              "      }\n",
              "    };\n",
              "  }\n",
              "\n",
              "  for (const file of files) {\n",
              "    const li = document.createElement('li');\n",
              "    li.append(span(file.name, {fontWeight: 'bold'}));\n",
              "    li.append(span(\n",
              "        `(${file.type || 'n/a'}) - ${file.size} bytes, ` +\n",
              "        `last modified: ${\n",
              "            file.lastModifiedDate ? file.lastModifiedDate.toLocaleDateString() :\n",
              "                                    'n/a'} - `));\n",
              "    const percent = span('0% done');\n",
              "    li.appendChild(percent);\n",
              "\n",
              "    outputElement.appendChild(li);\n",
              "\n",
              "    const fileDataPromise = new Promise((resolve) => {\n",
              "      const reader = new FileReader();\n",
              "      reader.onload = (e) => {\n",
              "        resolve(e.target.result);\n",
              "      };\n",
              "      reader.readAsArrayBuffer(file);\n",
              "    });\n",
              "    // Wait for the data to be ready.\n",
              "    let fileData = yield {\n",
              "      promise: fileDataPromise,\n",
              "      response: {\n",
              "        action: 'continue',\n",
              "      }\n",
              "    };\n",
              "\n",
              "    // Use a chunked sending to avoid message size limits. See b/62115660.\n",
              "    let position = 0;\n",
              "    do {\n",
              "      const length = Math.min(fileData.byteLength - position, MAX_PAYLOAD_SIZE);\n",
              "      const chunk = new Uint8Array(fileData, position, length);\n",
              "      position += length;\n",
              "\n",
              "      const base64 = btoa(String.fromCharCode.apply(null, chunk));\n",
              "      yield {\n",
              "        response: {\n",
              "          action: 'append',\n",
              "          file: file.name,\n",
              "          data: base64,\n",
              "        },\n",
              "      };\n",
              "\n",
              "      let percentDone = fileData.byteLength === 0 ?\n",
              "          100 :\n",
              "          Math.round((position / fileData.byteLength) * 100);\n",
              "      percent.textContent = `${percentDone}% done`;\n",
              "\n",
              "    } while (position < fileData.byteLength);\n",
              "  }\n",
              "\n",
              "  // All done.\n",
              "  yield {\n",
              "    response: {\n",
              "      action: 'complete',\n",
              "    }\n",
              "  };\n",
              "}\n",
              "\n",
              "scope.google = scope.google || {};\n",
              "scope.google.colab = scope.google.colab || {};\n",
              "scope.google.colab._files = {\n",
              "  _uploadFiles,\n",
              "  _uploadFilesContinue,\n",
              "};\n",
              "})(self);\n",
              "</script> "
            ]
          },
          "metadata": {}
        },
        {
          "output_type": "stream",
          "name": "stdout",
          "text": [
            "Saving Version_CACE_7315 - DataSet.csv to Version_CACE_7315 - DataSet (1).csv\n"
          ]
        }
      ],
      "source": [
        "from google.colab import files\n",
        "uploaded = files.upload()"
      ]
    },
    {
      "cell_type": "code",
      "metadata": {
        "colab": {
          "base_uri": "https://localhost:8080/",
          "height": 206
        },
        "id": "a7746a90",
        "outputId": "0f113bd0-767c-475d-d51a-9227387b336f"
      },
      "source": [
        "import pandas as pd\n",
        "\n",
        "# Use the uploaded file instead of the local path\n",
        "file_name = \"Version_CACE_7315 - DataSet.csv\"\n",
        "df = pd.read_csv(file_name)\n",
        "display(df.head())"
      ],
      "execution_count": null,
      "outputs": [
        {
          "output_type": "display_data",
          "data": {
            "text/plain": [
              "           Region       País   Año  %_Presion  \\\n",
              "0          Europa   Alemania  2004      1.384   \n",
              "1          Europa   Alemania  2004      1.020   \n",
              "2          Europa   Alemania  2004      1.015   \n",
              "3          Europa   Alemania  2004      3.419   \n",
              "4  America Latina  Argentina  2004      2.433   \n",
              "\n",
              "                              Tipo_Presion  \n",
              "0     Contribuciones a la Seguridad Social  \n",
              "1  Presión Tributaria Gobierno Subnacional  \n",
              "2      Presión Tributaria Gobierno Central  \n",
              "3                     Presión Fiscal Total  \n",
              "4                     Presión Fiscal Total  "
            ],
            "text/html": [
              "\n",
              "  <div id=\"df-6cb8209b-14f0-472b-a72d-0988205b6943\" class=\"colab-df-container\">\n",
              "    <div>\n",
              "<style scoped>\n",
              "    .dataframe tbody tr th:only-of-type {\n",
              "        vertical-align: middle;\n",
              "    }\n",
              "\n",
              "    .dataframe tbody tr th {\n",
              "        vertical-align: top;\n",
              "    }\n",
              "\n",
              "    .dataframe thead th {\n",
              "        text-align: right;\n",
              "    }\n",
              "</style>\n",
              "<table border=\"1\" class=\"dataframe\">\n",
              "  <thead>\n",
              "    <tr style=\"text-align: right;\">\n",
              "      <th></th>\n",
              "      <th>Region</th>\n",
              "      <th>País</th>\n",
              "      <th>Año</th>\n",
              "      <th>%_Presion</th>\n",
              "      <th>Tipo_Presion</th>\n",
              "    </tr>\n",
              "  </thead>\n",
              "  <tbody>\n",
              "    <tr>\n",
              "      <th>0</th>\n",
              "      <td>Europa</td>\n",
              "      <td>Alemania</td>\n",
              "      <td>2004</td>\n",
              "      <td>1.384</td>\n",
              "      <td>Contribuciones a la Seguridad Social</td>\n",
              "    </tr>\n",
              "    <tr>\n",
              "      <th>1</th>\n",
              "      <td>Europa</td>\n",
              "      <td>Alemania</td>\n",
              "      <td>2004</td>\n",
              "      <td>1.020</td>\n",
              "      <td>Presión Tributaria Gobierno Subnacional</td>\n",
              "    </tr>\n",
              "    <tr>\n",
              "      <th>2</th>\n",
              "      <td>Europa</td>\n",
              "      <td>Alemania</td>\n",
              "      <td>2004</td>\n",
              "      <td>1.015</td>\n",
              "      <td>Presión Tributaria Gobierno Central</td>\n",
              "    </tr>\n",
              "    <tr>\n",
              "      <th>3</th>\n",
              "      <td>Europa</td>\n",
              "      <td>Alemania</td>\n",
              "      <td>2004</td>\n",
              "      <td>3.419</td>\n",
              "      <td>Presión Fiscal Total</td>\n",
              "    </tr>\n",
              "    <tr>\n",
              "      <th>4</th>\n",
              "      <td>America Latina</td>\n",
              "      <td>Argentina</td>\n",
              "      <td>2004</td>\n",
              "      <td>2.433</td>\n",
              "      <td>Presión Fiscal Total</td>\n",
              "    </tr>\n",
              "  </tbody>\n",
              "</table>\n",
              "</div>\n",
              "    <div class=\"colab-df-buttons\">\n",
              "\n",
              "  <div class=\"colab-df-container\">\n",
              "    <button class=\"colab-df-convert\" onclick=\"convertToInteractive('df-6cb8209b-14f0-472b-a72d-0988205b6943')\"\n",
              "            title=\"Convert this dataframe to an interactive table.\"\n",
              "            style=\"display:none;\">\n",
              "\n",
              "  <svg xmlns=\"http://www.w3.org/2000/svg\" height=\"24px\" viewBox=\"0 -960 960 960\">\n",
              "    <path d=\"M120-120v-720h720v720H120Zm60-500h600v-160H180v160Zm220 220h160v-160H400v160Zm0 220h160v-160H400v160ZM180-400h160v-160H180v160Zm440 0h160v-160H620v160ZM180-180h160v-160H180v160Zm440 0h160v-160H620v160Z\"/>\n",
              "  </svg>\n",
              "    </button>\n",
              "\n",
              "  <style>\n",
              "    .colab-df-container {\n",
              "      display:flex;\n",
              "      gap: 12px;\n",
              "    }\n",
              "\n",
              "    .colab-df-convert {\n",
              "      background-color: #E8F0FE;\n",
              "      border: none;\n",
              "      border-radius: 50%;\n",
              "      cursor: pointer;\n",
              "      display: none;\n",
              "      fill: #1967D2;\n",
              "      height: 32px;\n",
              "      padding: 0 0 0 0;\n",
              "      width: 32px;\n",
              "    }\n",
              "\n",
              "    .colab-df-convert:hover {\n",
              "      background-color: #E2EBFA;\n",
              "      box-shadow: 0px 1px 2px rgba(60, 64, 67, 0.3), 0px 1px 3px 1px rgba(60, 64, 67, 0.15);\n",
              "      fill: #174EA6;\n",
              "    }\n",
              "\n",
              "    .colab-df-buttons div {\n",
              "      margin-bottom: 4px;\n",
              "    }\n",
              "\n",
              "    [theme=dark] .colab-df-convert {\n",
              "      background-color: #3B4455;\n",
              "      fill: #D2E3FC;\n",
              "    }\n",
              "\n",
              "    [theme=dark] .colab-df-convert:hover {\n",
              "      background-color: #434B5C;\n",
              "      box-shadow: 0px 1px 3px 1px rgba(0, 0, 0, 0.15);\n",
              "      filter: drop-shadow(0px 1px 2px rgba(0, 0, 0, 0.3));\n",
              "      fill: #FFFFFF;\n",
              "    }\n",
              "  </style>\n",
              "\n",
              "    <script>\n",
              "      const buttonEl =\n",
              "        document.querySelector('#df-6cb8209b-14f0-472b-a72d-0988205b6943 button.colab-df-convert');\n",
              "      buttonEl.style.display =\n",
              "        google.colab.kernel.accessAllowed ? 'block' : 'none';\n",
              "\n",
              "      async function convertToInteractive(key) {\n",
              "        const element = document.querySelector('#df-6cb8209b-14f0-472b-a72d-0988205b6943');\n",
              "        const dataTable =\n",
              "          await google.colab.kernel.invokeFunction('convertToInteractive',\n",
              "                                                    [key], {});\n",
              "        if (!dataTable) return;\n",
              "\n",
              "        const docLinkHtml = 'Like what you see? Visit the ' +\n",
              "          '<a target=\"_blank\" href=https://colab.research.google.com/notebooks/data_table.ipynb>data table notebook</a>'\n",
              "          + ' to learn more about interactive tables.';\n",
              "        element.innerHTML = '';\n",
              "        dataTable['output_type'] = 'display_data';\n",
              "        await google.colab.output.renderOutput(dataTable, element);\n",
              "        const docLink = document.createElement('div');\n",
              "        docLink.innerHTML = docLinkHtml;\n",
              "        element.appendChild(docLink);\n",
              "      }\n",
              "    </script>\n",
              "  </div>\n",
              "\n",
              "\n",
              "    <div id=\"df-ee1e29ba-c0ee-4ca2-be03-837ce27b51a0\">\n",
              "      <button class=\"colab-df-quickchart\" onclick=\"quickchart('df-ee1e29ba-c0ee-4ca2-be03-837ce27b51a0')\"\n",
              "                title=\"Suggest charts\"\n",
              "                style=\"display:none;\">\n",
              "\n",
              "<svg xmlns=\"http://www.w3.org/2000/svg\" height=\"24px\"viewBox=\"0 0 24 24\"\n",
              "     width=\"24px\">\n",
              "    <g>\n",
              "        <path d=\"M19 3H5c-1.1 0-2 .9-2 2v14c0 1.1.9 2 2 2h14c1.1 0 2-.9 2-2V5c0-1.1-.9-2-2-2zM9 17H7v-7h2v7zm4 0h-2V7h2v10zm4 0h-2v-4h2v4z\"/>\n",
              "    </g>\n",
              "</svg>\n",
              "      </button>\n",
              "\n",
              "<style>\n",
              "  .colab-df-quickchart {\n",
              "      --bg-color: #E8F0FE;\n",
              "      --fill-color: #1967D2;\n",
              "      --hover-bg-color: #E2EBFA;\n",
              "      --hover-fill-color: #174EA6;\n",
              "      --disabled-fill-color: #AAA;\n",
              "      --disabled-bg-color: #DDD;\n",
              "  }\n",
              "\n",
              "  [theme=dark] .colab-df-quickchart {\n",
              "      --bg-color: #3B4455;\n",
              "      --fill-color: #D2E3FC;\n",
              "      --hover-bg-color: #434B5C;\n",
              "      --hover-fill-color: #FFFFFF;\n",
              "      --disabled-bg-color: #3B4455;\n",
              "      --disabled-fill-color: #666;\n",
              "  }\n",
              "\n",
              "  .colab-df-quickchart {\n",
              "    background-color: var(--bg-color);\n",
              "    border: none;\n",
              "    border-radius: 50%;\n",
              "    cursor: pointer;\n",
              "    display: none;\n",
              "    fill: var(--fill-color);\n",
              "    height: 32px;\n",
              "    padding: 0;\n",
              "    width: 32px;\n",
              "  }\n",
              "\n",
              "  .colab-df-quickchart:hover {\n",
              "    background-color: var(--hover-bg-color);\n",
              "    box-shadow: 0 1px 2px rgba(60, 64, 67, 0.3), 0 1px 3px 1px rgba(60, 64, 67, 0.15);\n",
              "    fill: var(--button-hover-fill-color);\n",
              "  }\n",
              "\n",
              "  .colab-df-quickchart-complete:disabled,\n",
              "  .colab-df-quickchart-complete:disabled:hover {\n",
              "    background-color: var(--disabled-bg-color);\n",
              "    fill: var(--disabled-fill-color);\n",
              "    box-shadow: none;\n",
              "  }\n",
              "\n",
              "  .colab-df-spinner {\n",
              "    border: 2px solid var(--fill-color);\n",
              "    border-color: transparent;\n",
              "    border-bottom-color: var(--fill-color);\n",
              "    animation:\n",
              "      spin 1s steps(1) infinite;\n",
              "  }\n",
              "\n",
              "  @keyframes spin {\n",
              "    0% {\n",
              "      border-color: transparent;\n",
              "      border-bottom-color: var(--fill-color);\n",
              "      border-left-color: var(--fill-color);\n",
              "    }\n",
              "    20% {\n",
              "      border-color: transparent;\n",
              "      border-left-color: var(--fill-color);\n",
              "      border-top-color: var(--fill-color);\n",
              "    }\n",
              "    30% {\n",
              "      border-color: transparent;\n",
              "      border-left-color: var(--fill-color);\n",
              "      border-top-color: var(--fill-color);\n",
              "      border-right-color: var(--fill-color);\n",
              "    }\n",
              "    40% {\n",
              "      border-color: transparent;\n",
              "      border-right-color: var(--fill-color);\n",
              "      border-top-color: var(--fill-color);\n",
              "    }\n",
              "    60% {\n",
              "      border-color: transparent;\n",
              "      border-right-color: var(--fill-color);\n",
              "    }\n",
              "    80% {\n",
              "      border-color: transparent;\n",
              "      border-right-color: var(--fill-color);\n",
              "      border-bottom-color: var(--fill-color);\n",
              "    }\n",
              "    90% {\n",
              "      border-color: transparent;\n",
              "      border-bottom-color: var(--fill-color);\n",
              "    }\n",
              "  }\n",
              "</style>\n",
              "\n",
              "      <script>\n",
              "        async function quickchart(key) {\n",
              "          const quickchartButtonEl =\n",
              "            document.querySelector('#' + key + ' button');\n",
              "          quickchartButtonEl.disabled = true;  // To prevent multiple clicks.\n",
              "          quickchartButtonEl.classList.add('colab-df-spinner');\n",
              "          try {\n",
              "            const charts = await google.colab.kernel.invokeFunction(\n",
              "                'suggestCharts', [key], {});\n",
              "          } catch (error) {\n",
              "            console.error('Error during call to suggestCharts:', error);\n",
              "          }\n",
              "          quickchartButtonEl.classList.remove('colab-df-spinner');\n",
              "          quickchartButtonEl.classList.add('colab-df-quickchart-complete');\n",
              "        }\n",
              "        (() => {\n",
              "          let quickchartButtonEl =\n",
              "            document.querySelector('#df-ee1e29ba-c0ee-4ca2-be03-837ce27b51a0 button');\n",
              "          quickchartButtonEl.style.display =\n",
              "            google.colab.kernel.accessAllowed ? 'block' : 'none';\n",
              "        })();\n",
              "      </script>\n",
              "    </div>\n",
              "\n",
              "    </div>\n",
              "  </div>\n"
            ],
            "application/vnd.google.colaboratory.intrinsic+json": {
              "type": "dataframe",
              "summary": "{\n  \"name\": \"display(df\",\n  \"rows\": 5,\n  \"fields\": [\n    {\n      \"column\": \"Region\",\n      \"properties\": {\n        \"dtype\": \"category\",\n        \"num_unique_values\": 2,\n        \"samples\": [\n          \"America Latina\",\n          \"Europa\"\n        ],\n        \"semantic_type\": \"\",\n        \"description\": \"\"\n      }\n    },\n    {\n      \"column\": \"Pa\\u00eds\",\n      \"properties\": {\n        \"dtype\": \"category\",\n        \"num_unique_values\": 2,\n        \"samples\": [\n          \"Argentina\",\n          \"Alemania\"\n        ],\n        \"semantic_type\": \"\",\n        \"description\": \"\"\n      }\n    },\n    {\n      \"column\": \"A\\u00f1o\",\n      \"properties\": {\n        \"dtype\": \"number\",\n        \"std\": 0,\n        \"min\": 2004,\n        \"max\": 2004,\n        \"num_unique_values\": 1,\n        \"samples\": [\n          2004\n        ],\n        \"semantic_type\": \"\",\n        \"description\": \"\"\n      }\n    },\n    {\n      \"column\": \"%_Presion\",\n      \"properties\": {\n        \"dtype\": \"number\",\n        \"std\": 1.0493858680199577,\n        \"min\": 1.015,\n        \"max\": 3.419,\n        \"num_unique_values\": 5,\n        \"samples\": [\n          1.02\n        ],\n        \"semantic_type\": \"\",\n        \"description\": \"\"\n      }\n    },\n    {\n      \"column\": \"Tipo_Presion\",\n      \"properties\": {\n        \"dtype\": \"string\",\n        \"num_unique_values\": 4,\n        \"samples\": [\n          \"Presi\\u00f3n Tributaria Gobierno Subnacional\"\n        ],\n        \"semantic_type\": \"\",\n        \"description\": \"\"\n      }\n    }\n  ]\n}"
            }
          },
          "metadata": {}
        }
      ]
    },
    {
      "cell_type": "markdown",
      "source": [
        "Extraer todos los datos del sri"
      ],
      "metadata": {
        "id": "it-qEYamEaQy"
      }
    },
    {
      "cell_type": "code",
      "source": [
        "import requests\n",
        "from bs4 import BeautifulSoup\n",
        "import pandas as pd\n",
        "\n",
        "# URL de la página del SRI\n",
        "url = \"https://www.sri.gob.ec/datasets#Presi%C3%B3n%20Fiscal\"\n",
        "\n",
        "# Realizamos la petición HTTP\n",
        "response = requests.get(url)\n",
        "response.raise_for_status()  # Verifica si hay errores\n",
        "\n",
        "# Parseamos el HTML con BeautifulSoup\n",
        "soup = BeautifulSoup(response.text, 'html.parser')\n",
        "\n",
        "# Buscamos el enlace del CSV\n",
        "enlace = None\n",
        "for link in soup.find_all('a', href=True):\n",
        "    if \"presion_fiscal.csv\" in link['href'].lower():\n",
        "        enlace = link['href']\n",
        "        break\n",
        "\n",
        "if enlace:\n",
        "    print(f\"Enlace encontrado: {enlace}\")\n",
        "else:\n",
        "    print(\"No se encontró el enlace de descarga.\")"
      ],
      "metadata": {
        "colab": {
          "base_uri": "https://localhost:8080/"
        },
        "id": "3dQ-42a6ET-q",
        "outputId": "108af2b3-85e2-40df-9576-2950767799c7"
      },
      "execution_count": 1,
      "outputs": [
        {
          "output_type": "stream",
          "name": "stdout",
          "text": [
            "Enlace encontrado: https://www.sri.gob.ec/o/sri-portlet-biblioteca-alfresco-internet/descargar/7e45627e-1f7e-4e21-ae59-d520634fc63f/SRI_Presion_Fiscal.csv\n"
          ]
        }
      ]
    },
    {
      "cell_type": "markdown",
      "source": [
        "Descargamos el archivo con el nombre SRI_Precion_Fiscal.csv"
      ],
      "metadata": {
        "id": "mt-IbFmjEi3V"
      }
    },
    {
      "cell_type": "code",
      "source": [
        "import requests\n",
        "\n",
        "url = enlace\n",
        "nombre_archivo = \"SRI_Presion_Fiscal.csv\"\n",
        "\n",
        "response = requests.get(url)\n",
        "\n",
        "# Guardar el archivo\n",
        "with open(nombre_archivo, 'wb') as f:\n",
        "    f.write(response.content)\n",
        "\n",
        "print(\"✅ Archivo descargado:\", nombre_archivo)"
      ],
      "metadata": {
        "colab": {
          "base_uri": "https://localhost:8080/"
        },
        "id": "cbQEoFWPEhHr",
        "outputId": "27c8f279-45fb-4e64-fbb2-184379ac0088"
      },
      "execution_count": 2,
      "outputs": [
        {
          "output_type": "stream",
          "name": "stdout",
          "text": [
            "✅ Archivo descargado: SRI_Presion_Fiscal.csv\n"
          ]
        }
      ]
    },
    {
      "cell_type": "markdown",
      "source": [
        "En este bloque estoy pasandole la informacion del CSV a un DataFrame"
      ],
      "metadata": {
        "id": "HgxGpHkWEsmF"
      }
    },
    {
      "cell_type": "code",
      "source": [
        "import pandas as pd\n",
        "\n",
        "# 1. Leer el archivo CSV con codificación y separador correctos\n",
        "df = pd.read_csv(\"SRI_Presion_Fiscal.csv\", encoding='latin1', sep=';')\n",
        "\n",
        "# 2. Eliminar espacios en los nombres de columnas\n",
        "df.columns = df.columns.str.strip()\n",
        "\n",
        "# 3. Renombrar la columna '%_Presion' a 'Presion' para facilitar el análisis\n",
        "df.rename(columns={'%_Presion': 'Presion'}, inplace=True)\n",
        "\n",
        "# 4. Eliminar espacios dentro de la columna 'Presion' y convertir a número\n",
        "df['Presion'] = df['Presion'].astype(str).str.replace(' ', '').str.replace(',', '.')\n",
        "df['Presion'] = pd.to_numeric(df['Presion'], errors='coerce')\n",
        "\n",
        "# 5. Verificar si hay valores nulos\n",
        "print(\"🧼 Valores nulos por columna:\")\n",
        "print(df.isnull().sum())\n",
        "\n",
        "# 6. Eliminar filas con valores nulos en columnas críticas (opcional)\n",
        "df.dropna(subset=['Region', 'País', 'Año', 'Presion'], inplace=True)\n",
        "\n",
        "# 7. Convertir la columna Año a entero (por si acaso no lo es)\n",
        "df['Año'] = pd.to_numeric(df['Año'], errors='coerce').astype('Int64')\n",
        "\n",
        "# 8. Mostrar las primeras filas limpias\n",
        "print(\"\\n✅ Datos limpios:\")\n",
        "print(df.head())\n",
        "\n",
        "# 9. Estadísticas generales\n",
        "print(\"\\n📊 Estadísticas de la columna Presion:\")\n",
        "print(df['Presion'].describe())\n"
      ],
      "metadata": {
        "colab": {
          "base_uri": "https://localhost:8080/"
        },
        "id": "0-9tmvHaEnkd",
        "outputId": "5ca7d138-04f4-4ad5-819f-492fa3b3d728"
      },
      "execution_count": 3,
      "outputs": [
        {
          "output_type": "stream",
          "name": "stdout",
          "text": [
            "🧼 Valores nulos por columna:\n",
            "Region          0\n",
            "País            0\n",
            "Año             0\n",
            "Presion         0\n",
            "Tipo_Presion    0\n",
            "dtype: int64\n",
            "\n",
            "✅ Datos limpios:\n",
            "           Region       País   Año  Presion          Tipo_Presion\n",
            "0  America Latina  Argentina  2004   0.2433  Presión Fiscal Total\n",
            "1  America Latina  Argentina  2005   0.2453  Presión Fiscal Total\n",
            "2  America Latina  Argentina  2006   0.2508  Presión Fiscal Total\n",
            "3  America Latina  Argentina  2007   0.2637  Presión Fiscal Total\n",
            "4  America Latina  Argentina  2008   0.2762  Presión Fiscal Total\n",
            "\n",
            "📊 Estadísticas de la columna Presion:\n",
            "count    3043.000000\n",
            "mean        0.147562\n",
            "std         0.123430\n",
            "min         0.000000\n",
            "25%         0.035100\n",
            "50%         0.128300\n",
            "75%         0.226550\n",
            "max         0.502900\n",
            "Name: Presion, dtype: float64\n"
          ]
        }
      ]
    },
    {
      "cell_type": "markdown",
      "source": [
        "Analisi estadistico descriptivo"
      ],
      "metadata": {
        "id": "O_VZQHn2E8HW"
      }
    },
    {
      "cell_type": "code",
      "source": [
        "from scipy import stats\n",
        "\n",
        "print(\"\\n📌 Media (promedio) de la presión fiscal:\")\n",
        "print(df['Presion'].mean())\n",
        "\n",
        "print(\"\\n📌 Mediana de la presión fiscal:\")\n",
        "print(df['Presion'].median())\n",
        "\n",
        "print(\"\\n📌 Moda de la presión fiscal:\")\n",
        "moda = df['Presion'].mode()\n",
        "print(moda if not moda.empty else \"No hay moda clara\")\n",
        "\n",
        "print(\"\\n📌 Varianza de la presión fiscal:\")\n",
        "print(df['Presion'].var())\n",
        "\n",
        "print(\"\\n📌 Desviación estándar:\")\n",
        "print(df['Presion'].std())\n",
        "\n",
        "print(\"\\n📌 Valor mínimo y máximo:\")\n",
        "print(\"Mínimo:\", df['Presion'].min())\n",
        "print(\"Máximo:\", df['Presion'].max())\n"
      ],
      "metadata": {
        "colab": {
          "base_uri": "https://localhost:8080/"
        },
        "id": "8iwx3oW5E68u",
        "outputId": "7a5552cc-1cd7-42c2-f113-23806adfbb08"
      },
      "execution_count": 4,
      "outputs": [
        {
          "output_type": "stream",
          "name": "stdout",
          "text": [
            "\n",
            "📌 Media (promedio) de la presión fiscal:\n",
            "0.14756243838317448\n",
            "\n",
            "📌 Mediana de la presión fiscal:\n",
            "0.1283\n",
            "\n",
            "📌 Moda de la presión fiscal:\n",
            "0    0.0\n",
            "Name: Presion, dtype: float64\n",
            "\n",
            "📌 Varianza de la presión fiscal:\n",
            "0.015235037224427093\n",
            "\n",
            "📌 Desviación estándar:\n",
            "0.12343029297715814\n",
            "\n",
            "📌 Valor mínimo y máximo:\n",
            "Mínimo: 0.0\n",
            "Máximo: 0.5029\n"
          ]
        }
      ]
    },
    {
      "cell_type": "markdown",
      "source": [],
      "metadata": {
        "id": "Wwyk86DZCCSE"
      }
    },
    {
      "cell_type": "markdown",
      "source": [
        "1. País con mayor presión fiscal promedio (históricamente)"
      ],
      "metadata": {
        "id": "lqMwW8l4FCh4"
      }
    },
    {
      "cell_type": "code",
      "source": [
        "print(\"\\n🏆 País con mayor presión fiscal promedio:\")\n",
        "promedios = df.groupby('País')['Presion'].mean().sort_values(ascending=False)\n",
        "print(promedios.head(1))\n"
      ],
      "metadata": {
        "colab": {
          "base_uri": "https://localhost:8080/"
        },
        "id": "Y4-9b85dFBuB",
        "outputId": "770ce32d-0cb0-4744-ead3-3f9f3d3777f8"
      },
      "execution_count": 5,
      "outputs": [
        {
          "output_type": "stream",
          "name": "stdout",
          "text": [
            "\n",
            "🏆 País con mayor presión fiscal promedio:\n",
            "País\n",
            "Dinamarca    0.228434\n",
            "Name: Presion, dtype: float64\n"
          ]
        }
      ]
    },
    {
      "cell_type": "code",
      "source": [
        "print(\"\\n🔝 Top 5 países con mayor presión fiscal promedio:\")\n",
        "print(promedios.head(5))\n"
      ],
      "metadata": {
        "colab": {
          "base_uri": "https://localhost:8080/"
        },
        "id": "n_0q8d4sFEXR",
        "outputId": "6b6725f0-83ee-4439-f7f3-e8c697b0c565"
      },
      "execution_count": 6,
      "outputs": [
        {
          "output_type": "stream",
          "name": "stdout",
          "text": [
            "\n",
            "🔝 Top 5 países con mayor presión fiscal promedio:\n",
            "País\n",
            "Dinamarca    0.228434\n",
            "Francia      0.220238\n",
            "Suecia       0.216976\n",
            "Bélgica      0.215012\n",
            "Finlandia    0.210920\n",
            "Name: Presion, dtype: float64\n"
          ]
        }
      ]
    },
    {
      "cell_type": "markdown",
      "source": [
        "Evolución de presión fiscal de un país específico"
      ],
      "metadata": {
        "id": "UlduIKdNFLux"
      }
    },
    {
      "cell_type": "code",
      "source": [
        "pais = 'Ecuador'  # cambia por el país que quieras\n",
        "df_pais = df[df['País'] == pais]\n",
        "\n",
        "print(f\"\\n📈 Evolución de presión fiscal en {pais}:\")\n",
        "print(df_pais[['Año', 'Presion']].sort_values('Año'))"
      ],
      "metadata": {
        "colab": {
          "base_uri": "https://localhost:8080/"
        },
        "id": "R0hqA1hPFJfQ",
        "outputId": "b6d231d8-fcfa-4dde-c5f5-4c3ab3b05cd1"
      },
      "execution_count": 7,
      "outputs": [
        {
          "output_type": "stream",
          "name": "stdout",
          "text": [
            "\n",
            "📈 Evolución de presión fiscal en Ecuador:\n",
            "       Año  Presion\n",
            "95    2004   0.1450\n",
            "400   2004   0.1081\n",
            "1010  2004   0.0291\n",
            "705   2004   0.0078\n",
            "706   2005   0.0077\n",
            "...    ...      ...\n",
            "418   2022   0.1367\n",
            "724   2023   0.0108\n",
            "419   2023   0.1316\n",
            "114   2023   0.1934\n",
            "1029  2023   0.0509\n",
            "\n",
            "[80 rows x 2 columns]\n"
          ]
        }
      ]
    },
    {
      "cell_type": "markdown",
      "source": [
        "Año con mayor presión fiscal en todo el conjunto"
      ],
      "metadata": {
        "id": "iMdcU7_-FR3Y"
      }
    },
    {
      "cell_type": "code",
      "source": [
        "fila_max = df[df['Presion'] == df['Presion'].max()]\n",
        "print(\"\\n📌 Año y país con mayor presión fiscal registrada:\")\n",
        "print(fila_max[['País', 'Año', 'Presion']])"
      ],
      "metadata": {
        "colab": {
          "base_uri": "https://localhost:8080/"
        },
        "id": "-qC9qZznFNuR",
        "outputId": "09d7c654-a5da-4943-a4be-e27be176cc43"
      },
      "execution_count": 8,
      "outputs": [
        {
          "output_type": "stream",
          "name": "stdout",
          "text": [
            "\n",
            "📌 Año y país con mayor presión fiscal registrada:\n",
            "          País   Año  Presion\n",
            "2808  Islandia  2016   0.5029\n"
          ]
        }
      ]
    },
    {
      "cell_type": "markdown",
      "source": [
        "Gráfico comparativo de países (opcional)"
      ],
      "metadata": {
        "id": "tqh8vCoHFXmj"
      }
    },
    {
      "cell_type": "code",
      "source": [
        "import matplotlib.pyplot as plt\n",
        "\n",
        "top5 = promedios.head(5)\n",
        "\n",
        "top5.plot(kind='bar', figsize=(8,5), title='Top 5 países con mayor presión fiscal promedio')\n",
        "plt.ylabel('% Presión Fiscal')\n",
        "plt.xlabel('País')\n",
        "plt.grid(axis='y')\n",
        "plt.show()"
      ],
      "metadata": {
        "colab": {
          "base_uri": "https://localhost:8080/",
          "height": 549
        },
        "id": "I3XeRaiLFVxt",
        "outputId": "e3492070-e317-41de-afb1-3b40e61e2ff8"
      },
      "execution_count": 9,
      "outputs": [
        {
          "output_type": "display_data",
          "data": {
            "text/plain": [
              "<Figure size 800x500 with 1 Axes>"
            ],
            "image/png": "[encoded data removed]"
          },
          "metadata": {}
        }
      ]
    },
    {
      "cell_type": "markdown",
      "source": [
        "Evolución histórica de la presión fiscal promedio en América Latina"
      ],
      "metadata": {
        "id": "ZAgGsrAZFcpa"
      }
    },
    {
      "cell_type": "code",
      "source": [
        "import seaborn as sns\n",
        "import matplotlib.pyplot as plt\n",
        "\n",
        "# Agrupar por año y obtener promedio de la región\n",
        "promedio_anual = df.groupby('Año')['Presion'].mean().reset_index()\n",
        "\n",
        "# Gráfico de línea\n",
        "plt.figure(figsize=(10,5))\n",
        "sns.lineplot(data=promedio_anual, x='Año', y='Presion', marker='o', color='blue')\n",
        "plt.title('📈 Evolución de la Presión Fiscal Promedio en América Latina')\n",
        "plt.xlabel('Año')\n",
        "plt.ylabel('% Presión Fiscal')\n",
        "plt.grid(True)\n",
        "plt.tight_layout()\n",
        "plt.show()\n"
      ],
      "metadata": {
        "colab": {
          "base_uri": "https://localhost:8080/",
          "height": 581
        },
        "id": "0l9jn1vcFZMj",
        "outputId": "1360252d-3efa-4fb1-fe8c-f78a86f824ed"
      },
      "execution_count": 10,
      "outputs": [
        {
          "output_type": "stream",
          "name": "stderr",
          "text": [
            "/tmp/ipython-input-10-2800615395.py:14: UserWarning: Glyph 128200 (\\N{CHART WITH UPWARDS TREND}) missing from font(s) DejaVu Sans.\n",
            "  plt.tight_layout()\n",
            "/usr/local/lib/python3.11/dist-packages/IPython/core/pylabtools.py:151: UserWarning: Glyph 128200 (\\N{CHART WITH UPWARDS TREND}) missing from font(s) DejaVu Sans.\n",
            "  fig.canvas.print_figure(bytes_io, **kw)\n"
          ]
        },
        {
          "output_type": "display_data",
          "data": {
            "text/plain": [
              "<Figure size 1000x500 with 1 Axes>"
            ],
            "image/png": "[encoded data removed]"
          },
          "metadata": {}
        }
      ]
    },
    {
      "cell_type": "markdown",
      "source": [
        "Comparación entre países en el año más reciente"
      ],
      "metadata": {
        "id": "yxlHFHf2Fiv8"
      }
    },
    {
      "cell_type": "code",
      "source": [
        "# Filtrar el último año del dataset\n",
        "ultimo_anio = df['Año'].max()\n",
        "df_ultimo = df[df['Año'] == ultimo_anio]\n",
        "\n",
        "# Ordenar por presión fiscal\n",
        "df_ultimo = df_ultimo.sort_values('Presion', ascending=False)\n",
        "\n",
        "# Gráfico de barras horizontales\n",
        "plt.figure(figsize=(12,8))\n",
        "sns.barplot(data=df_ultimo, y='País', x='Presion', palette='viridis')\n",
        "plt.title(f'🏅 Presión Fiscal por País en {ultimo_anio}')\n",
        "plt.xlabel('% Presión Fiscal')\n",
        "plt.ylabel('País')\n",
        "plt.grid(axis='x')\n",
        "plt.tight_layout()\n",
        "plt.show()\n"
      ],
      "metadata": {
        "colab": {
          "base_uri": "https://localhost:8080/",
          "height": 973
        },
        "id": "aQcevqYPFfYj",
        "outputId": "df7c934e-4837-461c-f5e3-6ad913495499"
      },
      "execution_count": 11,
      "outputs": [
        {
          "output_type": "stream",
          "name": "stderr",
          "text": [
            "/tmp/ipython-input-11-704761544.py:10: FutureWarning: \n",
            "\n",
            "Passing `palette` without assigning `hue` is deprecated and will be removed in v0.14.0. Assign the `y` variable to `hue` and set `legend=False` for the same effect.\n",
            "\n",
            "  sns.barplot(data=df_ultimo, y='País', x='Presion', palette='viridis')\n",
            "/tmp/ipython-input-11-704761544.py:15: UserWarning: Glyph 127941 (\\N{SPORTS MEDAL}) missing from font(s) DejaVu Sans.\n",
            "  plt.tight_layout()\n",
            "/usr/local/lib/python3.11/dist-packages/IPython/core/pylabtools.py:151: UserWarning: Glyph 127941 (\\N{SPORTS MEDAL}) missing from font(s) DejaVu Sans.\n",
            "  fig.canvas.print_figure(bytes_io, **kw)\n"
          ]
        },
        {
          "output_type": "display_data",
          "data": {
            "text/plain": [
              "<Figure size 1200x800 with 1 Axes>"
            ],
            "image/png": "[encoded data removed]"
          },
          "metadata": {}
        }
      ]
    },
    {
      "cell_type": "markdown",
      "source": [
        "Distribución de la presión fiscal por país (boxplot)"
      ],
      "metadata": {
        "id": "U8ad_o0TFoNN"
      }
    },
    {
      "cell_type": "code",
      "source": [
        "# Seleccionar países con suficientes registros (por ejemplo, +5 años)\n",
        "conteos = df['País'].value_counts()\n",
        "paises_mas_estables = conteos[conteos >= 5].index\n",
        "df_filtrado = df[df['País'].isin(paises_mas_estables)]\n",
        "\n",
        "# Gráfico de caja por país\n",
        "plt.figure(figsize=(14,6))\n",
        "sns.boxplot(data=df_filtrado, x='País', y='Presion')\n",
        "plt.title('📦 Distribución de la Presión Fiscal por País')\n",
        "plt.xticks(rotation=90)\n",
        "plt.grid(axis='y')\n",
        "plt.tight_layout()\n",
        "plt.show()\n"
      ],
      "metadata": {
        "colab": {
          "base_uri": "https://localhost:8080/",
          "height": 681
        },
        "id": "jsH6LAqsFkth",
        "outputId": "86c8852c-88cf-4709-b7b1-eec20ab9814e"
      },
      "execution_count": 12,
      "outputs": [
        {
          "output_type": "stream",
          "name": "stderr",
          "text": [
            "/tmp/ipython-input-12-2400519310.py:12: UserWarning: Glyph 128230 (\\N{PACKAGE}) missing from font(s) DejaVu Sans.\n",
            "  plt.tight_layout()\n",
            "/usr/local/lib/python3.11/dist-packages/IPython/core/pylabtools.py:151: UserWarning: Glyph 128230 (\\N{PACKAGE}) missing from font(s) DejaVu Sans.\n",
            "  fig.canvas.print_figure(bytes_io, **kw)\n"
          ]
        },
        {
          "output_type": "display_data",
          "data": {
            "text/plain": [
              "<Figure size 1400x600 with 1 Axes>"
            ],
            "image/png": "[encoded data removed]"
          },
          "metadata": {}
        }
      ]
    },
    {
      "cell_type": "markdown",
      "source": [
        "Consumo Extraccion de los datos utilizando la API de OECD\n",
        "\n",
        "Referencia\n",
        "\n",
        "https://data-explorer.oecd.org/vis?tm=ecuador&pg=0&snb=157&vw=br&df[ds]=dsDisseminateFinalDMZ&df[id]=DSD_REV_LAC%40DF_REVECU&df[ag]=OECD.CTP.TPS&df[vs]=2.0&dq=..S13....A&lom=LASTNPERIODS&lo=10&to[TIME_PERIOD]=false"
      ],
      "metadata": {
        "id": "CN4oFV2fFriF"
      }
    },
    {
      "cell_type": "code",
      "source": [
        "# URL de la API OECD con datos\n",
        "url = \"https://sdmx.oecd.org/public/rest/data/OECD.CTP.TPS,DSD_REV_LAC@DF_REVECU,2.0/..S13....A?startPeriod=2014&dimensionAtObservation=AllDimensions\"\n",
        "\n",
        "# Cabeceras para solicitar formato JSON\n",
        "headers = {\n",
        "    \"Accept\": \"application/vnd.sdmx.data+json;version=1.0.0-wd\"\n",
        "}\n",
        "\n",
        "# Hacer la petición\n",
        "response = requests.get(url, headers=headers)\n",
        "response.raise_for_status()  # lanzar error si algo sale mal\n",
        "\n",
        "# Cargar respuesta como JSON\n",
        "data = response.json()\n"
      ],
      "metadata": {
        "id": "txAOLu1FF0Do"
      },
      "execution_count": 13,
      "outputs": []
    },
    {
      "cell_type": "markdown",
      "source": [
        "Extraer los datos JSON a un DataFrame"
      ],
      "metadata": {
        "id": "prGyu33hF8n4"
      }
    },
    {
      "cell_type": "code",
      "source": [
        "# Lista para almacenar los resultados\n",
        "filas = []\n",
        "\n",
        "# Identificadores de dimensión (pueden cambiar según el conjunto)\n",
        "observaciones = data['data']['dataSets'][0]['observations']\n",
        "series_keys = data['data']['structure']['dimensions']['observation']\n",
        "\n",
        "# Construir la estructura\n",
        "for key, value in observaciones.items():\n",
        "    indices = key.split(\":\")\n",
        "    fila = {}\n",
        "    for i, dim in enumerate(series_keys):\n",
        "        codigos = dim['values']\n",
        "        idx = int(indices[i])\n",
        "        fila[dim['id']] = codigos[idx]['name']\n",
        "    fila['value'] = value[0]\n",
        "    filas.append(fila)\n",
        "\n",
        "# Convertir a DataFrame\n",
        "df = pd.DataFrame(filas)\n",
        "\n",
        "# Ver los primeros datos\n",
        "print(df.head())\n",
        "\n",
        "df.describe()"
      ],
      "metadata": {
        "colab": {
          "base_uri": "https://localhost:8080/",
          "height": 669
        },
        "id": "zeZBcL7gF7D_",
        "outputId": "0b14e197-1621-449e-dbb1-22e0e41705aa"
      },
      "execution_count": 14,
      "outputs": [
        {
          "output_type": "stream",
          "name": "stdout",
          "text": [
            "  REF_AREA      MEASURE              SECTOR  \\\n",
            "0  Ecuador  Tax revenue  General government   \n",
            "1  Ecuador  Tax revenue  General government   \n",
            "2  Ecuador  Tax revenue  General government   \n",
            "3  Ecuador  Tax revenue  General government   \n",
            "4  Ecuador  Tax revenue  General government   \n",
            "\n",
            "                                    STANDARD_REVENUE CTRY_SPECIFIC_REVENUE  \\\n",
            "0  Taxes on income, profits and capital gains of ...                 Total   \n",
            "1  Taxes on production, sale, transfer, leasing a...                 Total   \n",
            "2  Taxes on income, profits and capital gains of ...                 Total   \n",
            "3                                   Taxes on exports                 Total   \n",
            "4  Unallocable between taxes on production, sale,...                 Total   \n",
            "\n",
            "  UNIT_MEASURE    FREQ TIME_PERIOD      value  \n",
            "0    US dollar  Annual        2022    181.433  \n",
            "1    US dollar  Annual        2022  11585.590  \n",
            "2    US dollar  Annual        2022   5315.011  \n",
            "3    US dollar  Annual        2014      0.000  \n",
            "4    US dollar  Annual        2014      0.000  \n"
          ]
        },
        {
          "output_type": "execute_result",
          "data": {
            "text/plain": [
              "              value\n",
              "count    988.000000\n",
              "mean    1030.535866\n",
              "std     2891.862838\n",
              "min     -346.902000\n",
              "25%        0.000000\n",
              "50%       34.528000\n",
              "75%      336.843250\n",
              "max    24471.534000"
            ],
            "text/html": [
              "\n",
              "  <div id=\"df-f7fe73ce-13c4-4a23-87fd-2481d09ede94\" class=\"colab-df-container\">\n",
              "    <div>\n",
              "<style scoped>\n",
              "    .dataframe tbody tr th:only-of-type {\n",
              "        vertical-align: middle;\n",
              "    }\n",
              "\n",
              "    .dataframe tbody tr th {\n",
              "        vertical-align: top;\n",
              "    }\n",
              "\n",
              "    .dataframe thead th {\n",
              "        text-align: right;\n",
              "    }\n",
              "</style>\n",
              "<table border=\"1\" class=\"dataframe\">\n",
              "  <thead>\n",
              "    <tr style=\"text-align: right;\">\n",
              "      <th></th>\n",
              "      <th>value</th>\n",
              "    </tr>\n",
              "  </thead>\n",
              "  <tbody>\n",
              "    <tr>\n",
              "      <th>count</th>\n",
              "      <td>988.000000</td>\n",
              "    </tr>\n",
              "    <tr>\n",
              "      <th>mean</th>\n",
              "      <td>1030.535866</td>\n",
              "    </tr>\n",
              "    <tr>\n",
              "      <th>std</th>\n",
              "      <td>2891.862838</td>\n",
              "    </tr>\n",
              "    <tr>\n",
              "      <th>min</th>\n",
              "      <td>-346.902000</td>\n",
              "    </tr>\n",
              "    <tr>\n",
              "      <th>25%</th>\n",
              "      <td>0.000000</td>\n",
              "    </tr>\n",
              "    <tr>\n",
              "      <th>50%</th>\n",
              "      <td>34.528000</td>\n",
              "    </tr>\n",
              "    <tr>\n",
              "      <th>75%</th>\n",
              "      <td>336.843250</td>\n",
              "    </tr>\n",
              "    <tr>\n",
              "      <th>max</th>\n",
              "      <td>24471.534000</td>\n",
              "    </tr>\n",
              "  </tbody>\n",
              "</table>\n",
              "</div>\n",
              "    <div class=\"colab-df-buttons\">\n",
              "\n",
              "  <div class=\"colab-df-container\">\n",
              "    <button class=\"colab-df-convert\" onclick=\"convertToInteractive('df-f7fe73ce-13c4-4a23-87fd-2481d09ede94')\"\n",
              "            title=\"Convert this dataframe to an interactive table.\"\n",
              "            style=\"display:none;\">\n",
              "\n",
              "  <svg xmlns=\"http://www.w3.org/2000/svg\" height=\"24px\" viewBox=\"0 -960 960 960\">\n",
              "    <path d=\"M120-120v-720h720v720H120Zm60-500h600v-160H180v160Zm220 220h160v-160H400v160Zm0 220h160v-160H400v160ZM180-400h160v-160H180v160Zm440 0h160v-160H620v160ZM180-180h160v-160H180v160Zm440 0h160v-160H620v160Z\"/>\n",
              "  </svg>\n",
              "    </button>\n",
              "\n",
              "  <style>\n",
              "    .colab-df-container {\n",
              "      display:flex;\n",
              "      gap: 12px;\n",
              "    }\n",
              "\n",
              "    .colab-df-convert {\n",
              "      background-color: #E8F0FE;\n",
              "      border: none;\n",
              "      border-radius: 50%;\n",
              "      cursor: pointer;\n",
              "      display: none;\n",
              "      fill: #1967D2;\n",
              "      height: 32px;\n",
              "      padding: 0 0 0 0;\n",
              "      width: 32px;\n",
              "    }\n",
              "\n",
              "    .colab-df-convert:hover {\n",
              "      background-color: #E2EBFA;\n",
              "      box-shadow: 0px 1px 2px rgba(60, 64, 67, 0.3), 0px 1px 3px 1px rgba(60, 64, 67, 0.15);\n",
              "      fill: #174EA6;\n",
              "    }\n",
              "\n",
              "    .colab-df-buttons div {\n",
              "      margin-bottom: 4px;\n",
              "    }\n",
              "\n",
              "    [theme=dark] .colab-df-convert {\n",
              "      background-color: #3B4455;\n",
              "      fill: #D2E3FC;\n",
              "    }\n",
              "\n",
              "    [theme=dark] .colab-df-convert:hover {\n",
              "      background-color: #434B5C;\n",
              "      box-shadow: 0px 1px 3px 1px rgba(0, 0, 0, 0.15);\n",
              "      filter: drop-shadow(0px 1px 2px rgba(0, 0, 0, 0.3));\n",
              "      fill: #FFFFFF;\n",
              "    }\n",
              "  </style>\n",
              "\n",
              "    <script>\n",
              "      const buttonEl =\n",
              "        document.querySelector('#df-f7fe73ce-13c4-4a23-87fd-2481d09ede94 button.colab-df-convert');\n",
              "      buttonEl.style.display =\n",
              "        google.colab.kernel.accessAllowed ? 'block' : 'none';\n",
              "\n",
              "      async function convertToInteractive(key) {\n",
              "        const element = document.querySelector('#df-f7fe73ce-13c4-4a23-87fd-2481d09ede94');\n",
              "        const dataTable =\n",
              "          await google.colab.kernel.invokeFunction('convertToInteractive',\n",
              "                                                    [key], {});\n",
              "        if (!dataTable) return;\n",
              "\n",
              "        const docLinkHtml = 'Like what you see? Visit the ' +\n",
              "          '<a target=\"_blank\" href=https://colab.research.google.com/notebooks/data_table.ipynb>data table notebook</a>'\n",
              "          + ' to learn more about interactive tables.';\n",
              "        element.innerHTML = '';\n",
              "        dataTable['output_type'] = 'display_data';\n",
              "        await google.colab.output.renderOutput(dataTable, element);\n",
              "        const docLink = document.createElement('div');\n",
              "        docLink.innerHTML = docLinkHtml;\n",
              "        element.appendChild(docLink);\n",
              "      }\n",
              "    </script>\n",
              "  </div>\n",
              "\n",
              "\n",
              "    <div id=\"df-c2d37099-d60d-4174-8956-160693ac0b58\">\n",
              "      <button class=\"colab-df-quickchart\" onclick=\"quickchart('df-c2d37099-d60d-4174-8956-160693ac0b58')\"\n",
              "                title=\"Suggest charts\"\n",
              "                style=\"display:none;\">\n",
              "\n",
              "<svg xmlns=\"http://www.w3.org/2000/svg\" height=\"24px\"viewBox=\"0 0 24 24\"\n",
              "     width=\"24px\">\n",
              "    <g>\n",
              "        <path d=\"M19 3H5c-1.1 0-2 .9-2 2v14c0 1.1.9 2 2 2h14c1.1 0 2-.9 2-2V5c0-1.1-.9-2-2-2zM9 17H7v-7h2v7zm4 0h-2V7h2v10zm4 0h-2v-4h2v4z\"/>\n",
              "    </g>\n",
              "</svg>\n",
              "      </button>\n",
              "\n",
              "<style>\n",
              "  .colab-df-quickchart {\n",
              "      --bg-color: #E8F0FE;\n",
              "      --fill-color: #1967D2;\n",
              "      --hover-bg-color: #E2EBFA;\n",
              "      --hover-fill-color: #174EA6;\n",
              "      --disabled-fill-color: #AAA;\n",
              "      --disabled-bg-color: #DDD;\n",
              "  }\n",
              "\n",
              "  [theme=dark] .colab-df-quickchart {\n",
              "      --bg-color: #3B4455;\n",
              "      --fill-color: #D2E3FC;\n",
              "      --hover-bg-color: #434B5C;\n",
              "      --hover-fill-color: #FFFFFF;\n",
              "      --disabled-bg-color: #3B4455;\n",
              "      --disabled-fill-color: #666;\n",
              "  }\n",
              "\n",
              "  .colab-df-quickchart {\n",
              "    background-color: var(--bg-color);\n",
              "    border: none;\n",
              "    border-radius: 50%;\n",
              "    cursor: pointer;\n",
              "    display: none;\n",
              "    fill: var(--fill-color);\n",
              "    height: 32px;\n",
              "    padding: 0;\n",
              "    width: 32px;\n",
              "  }\n",
              "\n",
              "  .colab-df-quickchart:hover {\n",
              "    background-color: var(--hover-bg-color);\n",
              "    box-shadow: 0 1px 2px rgba(60, 64, 67, 0.3), 0 1px 3px 1px rgba(60, 64, 67, 0.15);\n",
              "    fill: var(--button-hover-fill-color);\n",
              "  }\n",
              "\n",
              "  .colab-df-quickchart-complete:disabled,\n",
              "  .colab-df-quickchart-complete:disabled:hover {\n",
              "    background-color: var(--disabled-bg-color);\n",
              "    fill: var(--disabled-fill-color);\n",
              "    box-shadow: none;\n",
              "  }\n",
              "\n",
              "  .colab-df-spinner {\n",
              "    border: 2px solid var(--fill-color);\n",
              "    border-color: transparent;\n",
              "    border-bottom-color: var(--fill-color);\n",
              "    animation:\n",
              "      spin 1s steps(1) infinite;\n",
              "  }\n",
              "\n",
              "  @keyframes spin {\n",
              "    0% {\n",
              "      border-color: transparent;\n",
              "      border-bottom-color: var(--fill-color);\n",
              "      border-left-color: var(--fill-color);\n",
              "    }\n",
              "    20% {\n",
              "      border-color: transparent;\n",
              "      border-left-color: var(--fill-color);\n",
              "      border-top-color: var(--fill-color);\n",
              "    }\n",
              "    30% {\n",
              "      border-color: transparent;\n",
              "      border-left-color: var(--fill-color);\n",
              "      border-top-color: var(--fill-color);\n",
              "      border-right-color: var(--fill-color);\n",
              "    }\n",
              "    40% {\n",
              "      border-color: transparent;\n",
              "      border-right-color: var(--fill-color);\n",
              "      border-top-color: var(--fill-color);\n",
              "    }\n",
              "    60% {\n",
              "      border-color: transparent;\n",
              "      border-right-color: var(--fill-color);\n",
              "    }\n",
              "    80% {\n",
              "      border-color: transparent;\n",
              "      border-right-color: var(--fill-color);\n",
              "      border-bottom-color: var(--fill-color);\n",
              "    }\n",
              "    90% {\n",
              "      border-color: transparent;\n",
              "      border-bottom-color: var(--fill-color);\n",
              "    }\n",
              "  }\n",
              "</style>\n",
              "\n",
              "      <script>\n",
              "        async function quickchart(key) {\n",
              "          const quickchartButtonEl =\n",
              "            document.querySelector('#' + key + ' button');\n",
              "          quickchartButtonEl.disabled = true;  // To prevent multiple clicks.\n",
              "          quickchartButtonEl.classList.add('colab-df-spinner');\n",
              "          try {\n",
              "            const charts = await google.colab.kernel.invokeFunction(\n",
              "                'suggestCharts', [key], {});\n",
              "          } catch (error) {\n",
              "            console.error('Error during call to suggestCharts:', error);\n",
              "          }\n",
              "          quickchartButtonEl.classList.remove('colab-df-spinner');\n",
              "          quickchartButtonEl.classList.add('colab-df-quickchart-complete');\n",
              "        }\n",
              "        (() => {\n",
              "          let quickchartButtonEl =\n",
              "            document.querySelector('#df-c2d37099-d60d-4174-8956-160693ac0b58 button');\n",
              "          quickchartButtonEl.style.display =\n",
              "            google.colab.kernel.accessAllowed ? 'block' : 'none';\n",
              "        })();\n",
              "      </script>\n",
              "    </div>\n",
              "\n",
              "    </div>\n",
              "  </div>\n"
            ],
            "application/vnd.google.colaboratory.intrinsic+json": {
              "type": "dataframe",
              "summary": "{\n  \"name\": \"df\",\n  \"rows\": 8,\n  \"fields\": [\n    {\n      \"column\": \"value\",\n      \"properties\": {\n        \"dtype\": \"number\",\n        \"std\": 8463.365863927624,\n        \"min\": -346.902,\n        \"max\": 24471.534,\n        \"num_unique_values\": 8,\n        \"samples\": [\n          1030.5358663967613,\n          34.528,\n          988.0\n        ],\n        \"semantic_type\": \"\",\n        \"description\": \"\"\n      }\n    }\n  ]\n}"
            }
          },
          "metadata": {},
          "execution_count": 14
        }
      ]
    },
    {
      "cell_type": "code",
      "source": [
        "# Alternativa directa desde stats.oecd.org\n",
        "import requests\n",
        "import pandas as pd\n",
        "import matplotlib.pyplot as plt\n",
        "import seaborn as sns\n",
        "\n",
        "# Configuración de visualización\n",
        "sns.set_style(\"whitegrid\")\n",
        "plt.rcParams['figure.figsize'] = (12, 6)\n",
        "plt.rcParams['font.size'] = 12\n",
        "\n",
        "# 1. Definir la URL y hacer la solicitud\n",
        "url = \"https://stats.oecd.org/SDMX-JSON/data/REV_LAC/ECU.S1+S13.A/all?startTime=1990&endTime=2023\"\n",
        "headers = {'User-Agent': 'Mozilla/5.0 (Windows NT 10.0; Win64; x64)'}\n",
        "\n",
        "try:\n",
        "    response = requests.get(url, headers=headers)\n",
        "    response.raise_for_status()  # Lanza excepción para códigos 4XX/5XX\n",
        "\n",
        "    if response.status_code == 200:\n",
        "        data = response.json()\n",
        "\n",
        "        # 2. Procesamiento de datos\n",
        "        # Extraer observaciones\n",
        "        observations = data['dataSets'][0]['observations']\n",
        "\n",
        "        # Extraer dimensiones y metadatos\n",
        "        structure = data['structure']\n",
        "        dimensions = structure['dimensions']['observation']\n",
        "\n",
        "        # Mapear códigos a nombres legibles\n",
        "        tax_categories = {\n",
        "            '0': 'Impuestos sobre ingresos (S1)',\n",
        "            '1': 'Impuestos sobre bienes/servicios (S13)'\n",
        "        }\n",
        "\n",
        "        # Obtener lista de años\n",
        "        time_dim = next(d for d in dimensions if d['id'] == 'TIME_PERIOD')\n",
        "        years = [item['name'] for item in time_dim['values']]\n",
        "\n",
        "        # 3. Crear DataFrame\n",
        "        records = []\n",
        "        for obs_key, obs_value in observations.items():\n",
        "            # El formato de la clave es normalmente \"0:0:0\" para [posición país, posición categoría, posición año]\n",
        "            parts = obs_key.split(':')\n",
        "            tax_index = parts[1]  # Índice de categoría fiscal\n",
        "            year_index = int(parts[2])  # Índice del año\n",
        "\n",
        "            records.append({\n",
        "                'Año': years[year_index],\n",
        "                'Categoría': tax_categories[tax_index],\n",
        "                'Valor (% PIB)': obs_value[0]\n",
        "            })\n",
        "\n",
        "        df = pd.DataFrame(records)\n",
        "\n",
        "        # 4. Limpieza y conversión de tipos\n",
        "        df['Año'] = pd.to_numeric(df['Año'])\n",
        "        df['Valor (% PIB)'] = pd.to_numeric(df['Valor (% PIB)'])\n",
        "        df = df.sort_values('Año')\n",
        "\n",
        "        # 5. Visualización\n",
        "        plt.figure(figsize=(14, 7))\n",
        "        sns.lineplot(\n",
        "            data=df,\n",
        "            x='Año',\n",
        "            y='Valor (% PIB)',\n",
        "            hue='Categoría',\n",
        "            marker='o',\n",
        "            linewidth=2.5\n",
        "        )\n",
        "\n",
        "        plt.title('Evolución de los Ingresos Tributarios en Ecuador (1990-2023)\\n% del PIB',\n",
        "                 fontsize=16, pad=20)\n",
        "        plt.xlabel('Año', fontsize=12)\n",
        "        plt.ylabel('% del PIB', fontsize=12)\n",
        "        plt.legend(title='Tipo de Impuesto', title_fontsize=12, fontsize=11)\n",
        "        plt.grid(True, linestyle='--', alpha=0.6)\n",
        "\n",
        "        # Mostrar valores en los marcadores cada 5 años\n",
        "        for categoria in df['Categoría'].unique():\n",
        "            subset = df[df['Categoría'] == categoria]\n",
        "            for i, row in subset.iterrows():\n",
        "                if row['Año'] % 5 == 0:  # Cada 5 años\n",
        "                    plt.text(row['Año'], row['Valor (% PIB)'],\n",
        "                            f\"{row['Valor (% PIB)']:.1f}%\",\n",
        "                            ha='center', va='bottom', fontsize=9)\n",
        "\n",
        "        plt.tight_layout()\n",
        "        plt.show()\n",
        "\n",
        "        # 6. Mostrar tabla resumen\n",
        "        print(\"\\nResumen de datos:\")\n",
        "        print(df.pivot_table(index='Año', columns='Categoría', values='Valor (% PIB)'))\n",
        "\n",
        "except requests.exceptions.RequestException as e:\n",
        "    print(f\"Error de conexión: {str(e)}\")\n",
        "except ValueError as e:\n",
        "    print(f\"Error procesando JSON: {str(e)}\")\n",
        "    print(\"Respuesta del servidor:\", response.text[:500])  # Mostrar parte de la respuesta para diagnóstico\n",
        "except KeyError as e:\n",
        "    print(f\"Estructura de datos inesperada. Falta clave: {str(e)}\")\n",
        "    print(\"Revisa la estructura completa con: print(data.keys())\")\n",
        "except Exception as e:\n",
        "    print(f\"Error inesperado: {str(e)}\")"
      ],
      "metadata": {
        "colab": {
          "base_uri": "https://localhost:8080/"
        },
        "id": "tWn9wi4rF_Ml",
        "outputId": "d4d32567-c133-4eee-a3e9-f56a9ec39a68"
      },
      "execution_count": 16,
      "outputs": [
        {
          "output_type": "stream",
          "name": "stdout",
          "text": [
            "Error de conexión: 404 Client Error: Not Found for url: https://stats.oecd.org/SDMX-JSON/data/REV_LAC/ECU.S1+S13.A/all?startTime=1990&endTime=2023\n"
          ]
        }
      ]
    }
  ]
}